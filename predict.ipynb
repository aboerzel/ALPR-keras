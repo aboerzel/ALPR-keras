{
 "cells": [
  {
   "cell_type": "markdown",
   "metadata": {},
   "source": [
    "# Predict car license number from licence plate image"
   ]
  },
  {
   "cell_type": "code",
   "execution_count": 1,
   "metadata": {},
   "outputs": [
    {
     "name": "stdout",
     "output_type": "stream",
     "text": [
      "TensorFlow Version: 2.1.0-rc2\n",
      "GPU device: /device:GPU:0\n"
     ]
    }
   ],
   "source": [
    "import os\n",
    "import random\n",
    "import cv2\n",
    "import matplotlib.gridspec as gridspec\n",
    "import matplotlib.pyplot as plt\n",
    "import numpy as np\n",
    "import tensorflow as tf\n",
    "\n",
    "from tensorflow.keras.models import load_model\n",
    "from label_codec import LabelCodec\n",
    "\n",
    "print (\"TensorFlow Version: {}\".format(tf.__version__))\n",
    "\n",
    "device_name = tf.test.gpu_device_name()\n",
    "\n",
    "if device_name != \"/device:GPU:0\":\n",
    "    raise SystemError(\"GPU device not found\")\n",
    "\n",
    "print(f\"GPU device: {device_name}\")"
   ]
  },
  {
   "cell_type": "code",
   "execution_count": 2,
   "metadata": {},
   "outputs": [
    {
     "name": "stdout",
     "output_type": "stream",
     "text": [
      "Image Size:   (128, 64)\n",
      "Model Name:   glpr-model\n",
      "Model path:   output\\rmsprop\\glpr-model.h5\n"
     ]
    }
   ],
   "source": [
    "from config import config\n",
    "\n",
    "# input size\n",
    "IMAGE_WIDTH = config.IMAGE_WIDTH\n",
    "IMAGE_HEIGHT = config.IMAGE_HEIGHT\n",
    "\n",
    "POOL_SIZE = config.POOL_SIZE\n",
    "MAX_TEXT_LEN = config.MAX_TEXT_LEN\n",
    "\n",
    "OUTPUT_PATH = config.OUTPUT_PATH\n",
    "OPTIMIZER = config.OPTIMIZER\n",
    "MODEL_NAME = config.MODEL_NAME\n",
    "\n",
    "MODEL_PATH = os.path.join(OUTPUT_PATH, OPTIMIZER, MODEL_NAME) + \".h5\"\n",
    "TEST_IMAGES = config.TEST_IMAGES\n",
    "\n",
    "print(\"Image Size:   ({}, {})\".format(IMAGE_WIDTH, IMAGE_HEIGHT))\n",
    "print(\"Model Name:   {}\".format(MODEL_NAME))\n",
    "print(\"Model path:   {}\".format(MODEL_PATH))"
   ]
  },
  {
   "cell_type": "code",
   "execution_count": 3,
   "metadata": {},
   "outputs": [],
   "source": [
    "def load_image(filepath):\n",
    "    stream = open(filepath, \"rb\")\n",
    "    bytes = bytearray(stream.read())\n",
    "    numpyarray = np.asarray(bytes, dtype=np.uint8)\n",
    "    image = cv2.imdecode(numpyarray, cv2.IMREAD_UNCHANGED)\n",
    "\n",
    "    # convert image to grayscale, if it is not already a grayscale image\n",
    "    if len(image.shape) > 2:\n",
    "        image = cv2.cvtColor(image, cv2.COLOR_BGR2GRAY)\n",
    "\n",
    "    return image\n",
    "\n",
    "\n",
    "def show_image(image):\n",
    "    plt.axis(\"off\")\n",
    "    plt.title(label)\n",
    "    plt.imshow(image, cmap='gray')\n",
    "    plt.show()"
   ]
  },
  {
   "cell_type": "code",
   "execution_count": 4,
   "metadata": {},
   "outputs": [
    {
     "name": "stdout",
     "output_type": "stream",
     "text": [
      "WARNING:tensorflow:From C:\\Users\\Andreas\\Anaconda3\\envs\\dl4cv\\lib\\site-packages\\tensorflow_core\\python\\ops\\resource_variable_ops.py:1635: calling BaseResourceVariable.__init__ (from tensorflow.python.ops.resource_variable_ops) with constraint is deprecated and will be removed in a future version.\n",
      "Instructions for updating:\n",
      "If using Keras pass *_constraint arguments to layers.\n"
     ]
    }
   ],
   "source": [
    "tf.compat.v1.disable_eager_execution()\n",
    "model = load_model(MODEL_PATH, compile=False)"
   ]
  },
  {
   "cell_type": "code",
   "execution_count": null,
   "metadata": {},
   "outputs": [],
   "source": [
    "img_filename = random.choice(os.listdir(TEST_IMAGES))\n",
    "img_filepath = os.path.join(TEST_IMAGES, img_filename)\n",
    "label = img_filename.split(\".\")[0].split(\"#\")[0]\n",
    "image = load_image(img_filepath)\n",
    "\n",
    "# original image\n",
    "show_image(image)\n",
    "\n",
    "# predict\n",
    "image = cv2.resize(image, (IMAGE_WIDTH, IMAGE_HEIGHT), interpolation=cv2.INTER_AREA)\n",
    "image = image.astype(np.float32) / 255.\n",
    "image = np.expand_dims(image.T, -1)\n",
    "\n",
    "predictions = model.predict(np.asarray([image]), batch_size=1)\n",
    "pred_text = LabelCodec.decode_number_from_output(predictions)\n",
    "\n",
    "fig = plt.figure(figsize=(15, 10))\n",
    "outer = gridspec.GridSpec(1, 2, wspace=.5, hspace=0.1)\n",
    "ax1 = plt.Subplot(fig, outer[0])\n",
    "fig.add_subplot(ax1)\n",
    "print('Predicted: %9s\\nTrue:      %9s\\n=> %s' % (pred_text, label, pred_text == label))\n",
    "image = image[:, :, 0].T\n",
    "ax1.set_title('True: {}\\nPred: {}'.format(label, pred_text), loc='left')\n",
    "ax1.imshow(image, cmap='gray')\n",
    "ax1.set_xticks([])\n",
    "ax1.set_yticks([])\n",
    "\n",
    "ax2 = plt.Subplot(fig, outer[1])\n",
    "fig.add_subplot(ax2)\n",
    "ax2.set_title('Activations')\n",
    "ax2.imshow(predictions[0].T, cmap='binary', interpolation='nearest')\n",
    "ax2.set_yticks(list(range(len(LabelCodec.ALPHABET) + 1)))\n",
    "ax2.set_yticklabels(LabelCodec.ALPHABET)  # + ['blank'])\n",
    "ax2.grid(False)\n",
    "for h in np.arange(-0.5, len(LabelCodec.ALPHABET) + 1 + 0.5, 1):\n",
    "    ax2.axhline(h, linestyle='-', color='k', alpha=0.5, linewidth=1)"
   ]
  },
  {
   "cell_type": "code",
   "execution_count": null,
   "metadata": {},
   "outputs": [],
   "source": []
  }
 ],
 "metadata": {
  "kernelspec": {
   "display_name": "Python 3",
   "language": "python",
   "name": "python3"
  },
  "language_info": {
   "codemirror_mode": {
    "name": "ipython",
    "version": 3
   },
   "file_extension": ".py",
   "mimetype": "text/x-python",
   "name": "python",
   "nbconvert_exporter": "python",
   "pygments_lexer": "ipython3",
   "version": "3.7.5"
  }
 },
 "nbformat": 4,
 "nbformat_minor": 2
}
