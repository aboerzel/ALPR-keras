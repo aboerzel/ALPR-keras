{
 "cells": [
  {
   "cell_type": "markdown",
   "metadata": {},
   "source": [
    "### Importing Packages"
   ]
  },
  {
   "cell_type": "code",
   "execution_count": 1,
   "metadata": {},
   "outputs": [],
   "source": [
    "from pyimagesearch.io import Hdf5DatasetLoader\n",
    "from tensorflow.keras.preprocessing.image import ImageDataGenerator, array_to_img, img_to_array, load_img\n",
    "from sklearn.model_selection import train_test_split\n",
    "from config import config\n",
    "import skimage"
   ]
  },
  {
   "cell_type": "code",
   "execution_count": 2,
   "metadata": {},
   "outputs": [],
   "source": [
    "BATCH_SIZE = 12"
   ]
  },
  {
   "cell_type": "code",
   "execution_count": 5,
   "metadata": {},
   "outputs": [],
   "source": [
    "from config import config\n",
    "\n",
    "loader = Hdf5DatasetLoader()\n",
    "X_train, y_train = loader.load(config.TRAIN_HDF5, shuffle=True)"
   ]
  },
  {
   "cell_type": "code",
   "execution_count": null,
   "metadata": {},
   "outputs": [],
   "source": [
    "data_gen = ImageDataGenerator(\n",
    "    rescale=1./255,\n",
    "    rotation_range=10,\n",
    "    width_shift_range=0.10,\n",
    "    height_shift_range=0.10,\n",
    "    zoom_range=[0.8, 2.8],\n",
    "    shear_range=2.5,\n",
    "    brightness_range=[0.5, 1.5],\n",
    "    fill_mode='nearest',\n",
    "    horizontal_flip=False,\n",
    "    validation_split=0.2)\n",
    "\n",
    "images, labels = next(data_gen.flow(X_train, y_train, batch_size=BATCH_SIZE))\n",
    "images = [skimage.transform.resize(image, (config.IMAGE_HEIGHT, config.IMAGE_WIDTH)) for image in images]\n",
    "\n",
    "def plotImages(images_arr, labels, rows, columns):\n",
    "    fig, axes = plt.subplots(rows, columns, figsize=(50,50))\n",
    "    axes = axes.flatten()\n",
    "    for img, label, ax in zip(images_arr, labels, axes):\n",
    "        #img = img.reshape(config.IMAGE_WIDTH, config.IMAGE_HEIGHT)\n",
    "        ax.set_title(label)\n",
    "        ax.imshow(img, cmap='gray')\n",
    "    plt.tight_layout()\n",
    "    plt.show()\n",
    "    \n",
    "plotImages(images, labels, int(BATCH_SIZE / 4), 4)"
   ]
  },
  {
   "cell_type": "code",
   "execution_count": null,
   "metadata": {},
   "outputs": [],
   "source": []
  }
 ],
 "metadata": {
  "kernelspec": {
   "display_name": "Python 3",
   "language": "python",
   "name": "python3"
  },
  "language_info": {
   "codemirror_mode": {
    "name": "ipython",
    "version": 3
   },
   "file_extension": ".py",
   "mimetype": "text/x-python",
   "name": "python",
   "nbconvert_exporter": "python",
   "pygments_lexer": "ipython3",
   "version": "3.7.5"
  }
 },
 "nbformat": 4,
 "nbformat_minor": 1
}
