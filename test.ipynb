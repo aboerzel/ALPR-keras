{
 "cells": [
  {
   "cell_type": "code",
   "execution_count": 1,
   "metadata": {
    "collapsed": true
   },
   "outputs": [
    {
     "name": "stderr",
     "output_type": "stream",
     "text": [
      "Using TensorFlow backend.\n"
     ]
    }
   ],
   "source": [
    "import os\n",
    "import h5py\n",
    "import numpy as np\n",
    "import imgaug as ia\n",
    "import matplotlib.pyplot as plt\n",
    "from keras.preprocessing.image import ImageDataGenerator\n",
    "\n",
    "from config import anpr_config as config\n",
    "from pyimagesearch.io import HDF5DatasetGenerator\n",
    "from pyimagesearch.nn.conv import OCR\n",
    "from pyimagesearch.preprocessing import AspectAwarePreprocessor\n",
    "from pyimagesearch.preprocessing import SimplePreprocessor\n",
    "\n",
    "ia.seed(1)\n",
    "\n",
    "os.chdir(os.path.join(\"D:/development/cv/ANPR-keras\"))"
   ]
  },
  {
   "cell_type": "code",
   "execution_count": 5,
   "metadata": {
    "collapsed": true
   },
   "outputs": [
    {
     "name": "stdout",
     "output_type": "stream",
     "text": [
      "original image: (100, 473)\n"
     ]
    },
    {
     "data": {
      "image/png": "[encoded data removed]",
      "text/plain": [
       "<Figure size 432x288 with 1 Axes>"
      ]
     },
     "metadata": {},
     "output_type": "display_data"
    },
    {
     "name": "stdout",
     "output_type": "stream",
     "text": [
      "simple preprossor image: (32, 160)\n"
     ]
    },
    {
     "data": {
      "image/png": "[encoded data removed]",
      "text/plain": [
       "<Figure size 432x288 with 1 Axes>"
      ]
     },
     "metadata": {},
     "output_type": "display_data"
    },
    {
     "name": "stdout",
     "output_type": "stream",
     "text": [
      "aspect aware preprossor image: (32, 160)\n"
     ]
    },
    {
     "data": {
      "image/png": "[encoded data removed]",
      "text/plain": [
       "<Figure size 432x288 with 1 Axes>"
      ]
     },
     "metadata": {},
     "output_type": "display_data"
    }
   ],
   "source": [
    "trainData = h5py.File(config.TRAIN_HDF5)\n",
    "images = np.array(trainData[\"images\"])\n",
    "images = images.astype(\"float\") / 255.0\n",
    "np.random.shuffle(images)\n",
    "original_image = images[0]\n",
    "trainData.close()\n",
    "\n",
    "print(\"original image: %s\" % str(original_image.shape))\n",
    "\n",
    "plt.axis(\"off\")\n",
    "plt.imshow(original_image, cmap='gray')\n",
    "plt.show()\n",
    "\n",
    "sp = SimplePreprocessor(config.IMAGE_WIDTH, config.IMAGE_HEIGHT)\n",
    "sp_image = sp.preprocess(original_image)\n",
    "print(\"simple preprossor image: %s\" % str(sp_image.shape))\n",
    "\n",
    "plt.axis(\"off\")\n",
    "plt.imshow(sp_image, cmap='gray')\n",
    "plt.show()\n",
    "\n",
    "aap = AspectAwarePreprocessor(config.IMAGE_WIDTH, config.IMAGE_HEIGHT)\n",
    "aap_image = aap.preprocess(original_image)\n",
    "print(\"aspect aware preprossor image: %s\" % str(aap_image.shape))\n",
    "\n",
    "plt.axis(\"off\")\n",
    "plt.imshow(aap_image, cmap='gray')\n",
    "plt.show()\n"
   ]
  },
  {
   "cell_type": "code",
   "execution_count": 10,
   "metadata": {
    "collapsed": true
   },
   "outputs": [],
   "source": [
    "aug = ImageDataGenerator(rotation_range=18, zoom_range=0.15,\n",
    "                         width_shift_range=0.2, height_shift_range=0.2, shear_range=0.15,\n",
    "                         horizontal_flip=True, fill_mode=\"nearest\")\n",
    "\n",
    "sp = SimplePreprocessor(config.IMAGE_WIDTH, config.IMAGE_HEIGHT)\n",
    "aap = AspectAwarePreprocessor(config.IMAGE_WIDTH, config.IMAGE_HEIGHT)\n",
    "trainGen = HDF5DatasetGenerator(config.TRAIN_HDF5, config.BATCH_SIZE, preprocessors=[sp], aug=aug)\n",
    "\n",
    "inputs, outputs = trainGen.generator().__next__()\n",
    "images = np.array(inputs[\"data\"])\n",
    "images = images.astype(\"float\") / 255.0\n",
    "trainGen.close()\n",
    "\n",
    "cols = 4\n",
    "rows = len(images) // cols\n",
    "\n",
    "f, axarr = plt.subplots(rows, cols, figsize=(20, 32))\n",
    "for r in range(rows):\n",
    "    for c in range(cols):\n",
    "        image = images[r + c].reshape(32, 160)\n",
    "        axarr[r, c].axis(\"off\")\n",
    "        #axarr[r, c].imshow(image, cmap='Greys_r')\n",
    "        axarr[r, c].imshow(image, cmap='gray')\n",
    "\n",
    "plt.show()\n",
    "\n",
    "\n",
    "\n"
   ]
  },
  {
   "cell_type": "code",
   "execution_count": 5,
   "metadata": {},
   "outputs": [],
   "source": []
  },
  {
   "cell_type": "code",
   "execution_count": null,
   "metadata": {},
   "outputs": [],
   "source": []
  }
 ],
 "metadata": {
  "kernelspec": {
   "display_name": "Python 2",
   "language": "python",
   "name": "python2"
  },
  "language_info": {
   "codemirror_mode": {
    "name": "ipython",
    "version": 2
   },
   "file_extension": ".py",
   "mimetype": "text/x-python",
   "name": "python",
   "nbconvert_exporter": "python",
   "pygments_lexer": "ipython2",
   "version": "2.7.6"
  }
 },
 "nbformat": 4,
 "nbformat_minor": 0
}
